{
 "cells": [
  {
   "cell_type": "markdown",
   "metadata": {},
   "source": [
    "# SCRAPER JW.ORG"
   ]
  },
  {
   "cell_type": "markdown",
   "metadata": {},
   "source": [
    "## Load modules"
   ]
  },
  {
   "cell_type": "code",
   "execution_count": 1,
   "metadata": {},
   "outputs": [],
   "source": [
    "#pip install -U selenium \n",
    "# install geckodriver if necessary\n",
    "\n",
    "from selenium import webdriver\n",
    "from selenium.webdriver.support.ui import Select\n",
    "from selenium.webdriver.common.keys import Keys\n",
    "\n",
    "from selenium.webdriver.support.ui import WebDriverWait\n",
    "import time"
   ]
  },
  {
   "cell_type": "code",
   "execution_count": 2,
   "metadata": {},
   "outputs": [],
   "source": [
    "g =r'C:\\\\Users\\\\romeo\\\\OneDrive\\\\Documents\\\\ELU\\\\geckodriver\\\\geckodriver.exe'"
   ]
  },
  {
   "cell_type": "markdown",
   "metadata": {},
   "source": [
    "## Scrap yearly publications links"
   ]
  },
  {
   "cell_type": "code",
   "execution_count": 3,
   "metadata": {},
   "outputs": [],
   "source": [
    "h =r'https://www.jw.org/fon/nus%C9%9Bxwet%C9%9Bn/xojlawema-l%C9%9B/'"
   ]
  },
  {
   "cell_type": "code",
   "execution_count": 4,
   "metadata": {},
   "outputs": [],
   "source": [
    "dr = webdriver.Firefox(executable_path = g)\n",
    "\n",
    "dr.get(h)"
   ]
  },
  {
   "cell_type": "code",
   "execution_count": 5,
   "metadata": {},
   "outputs": [],
   "source": [
    "yee = dr.find_elements_by_xpath(\"//select[@id='yearFilter']\")"
   ]
  },
  {
   "cell_type": "code",
   "execution_count": 6,
   "metadata": {},
   "outputs": [],
   "source": [
    "year = yee[0].text.split('\\n')[1:]"
   ]
  },
  {
   "cell_type": "code",
   "execution_count": 7,
   "metadata": {},
   "outputs": [
    {
     "data": {
      "text/plain": [
       "['2021', '2020', '2019', '2018', '2017', '2016']"
      ]
     },
     "execution_count": 7,
     "metadata": {},
     "output_type": "execute_result"
    }
   ],
   "source": [
    "year"
   ]
  },
  {
   "cell_type": "code",
   "execution_count": 8,
   "metadata": {},
   "outputs": [],
   "source": [
    "li = []\n",
    "for y in year:\n",
    "    select = Select(dr.find_element_by_xpath(\"//select[@id='yearFilter']\"))\n",
    "    select.select_by_value(y)\n",
    "    \n",
    "    # click on the ba button to refresh page\n",
    "    button = dr.find_element_by_xpath(\"//input[@class='primaryButton inputSearchButton']\")\n",
    "    button.click()\n",
    "    \n",
    "    time.sleep(5)\n",
    "    #collect links\n",
    "    al_li = dr.find_elements_by_xpath(\"//div[@id='pubsViewResults']//a[starts-with(@href,'/fon/')]\")\n",
    "    \n",
    "    for el in al_li:\n",
    "        li.append(el.get_attribute(\"href\"))\n",
    "        #print(el.get_attribute(\"href\"))\n",
    "        \n",
    "    #remove duplicates\n",
    "    \n",
    "    mypee = list(dict.fromkeys(li))\n",
    "    #len(mypee)"
   ]
  },
  {
   "cell_type": "code",
   "execution_count": 9,
   "metadata": {},
   "outputs": [
    {
     "data": {
      "text/plain": [
       "82"
      ]
     },
     "execution_count": 9,
     "metadata": {},
     "output_type": "execute_result"
    }
   ],
   "source": [
    "len(mypee)"
   ]
  },
  {
   "cell_type": "code",
   "execution_count": null,
   "metadata": {},
   "outputs": [],
   "source": []
  },
  {
   "cell_type": "markdown",
   "metadata": {},
   "source": [
    "## Scrap monthly articles links"
   ]
  },
  {
   "cell_type": "code",
   "execution_count": 10,
   "metadata": {},
   "outputs": [],
   "source": [
    "drv = webdriver.Firefox(executable_path = g)"
   ]
  },
  {
   "cell_type": "code",
   "execution_count": 11,
   "metadata": {},
   "outputs": [],
   "source": [
    "links = []\n",
    "for l in mypee:\n",
    "    drv.get(l)\n",
    "    \n",
    "    all_elements = drv.find_elements_by_xpath(\"//div[@class='toc clearfix']//a[starts-with(@href,'/fon/nus%C9%9Bxwet%C9%9Bn/')]\")\n",
    "\n",
    "    for elem in all_elements:\n",
    "        links.append(elem.get_attribute(\"href\"))"
   ]
  },
  {
   "cell_type": "code",
   "execution_count": 12,
   "metadata": {},
   "outputs": [],
   "source": [
    "#f = r'https://www.jw.org/fon/nus%C9%9Bxwet%C9%9Bn/xojlawema-l%C9%9B/at%C9%94xw%C9%9B-aluunsun-2016-t%C9%94n-t%C9%94n/'\n",
    "#links"
   ]
  },
  {
   "cell_type": "code",
   "execution_count": 13,
   "metadata": {},
   "outputs": [],
   "source": [
    "#all_elements = drv.find_elements_by_xpath(\"//div[@class='toc clearfix']//a[starts-with(@href,'/fon/nus%C9%9Bxwet%C9%9Bn/')]\")\n",
    "\n",
    "#for elem in all_elements:\n",
    "#    links.append(elem.get_attribute(\"href\"))"
   ]
  },
  {
   "cell_type": "code",
   "execution_count": 14,
   "metadata": {},
   "outputs": [],
   "source": [
    "#len(links)"
   ]
  },
  {
   "cell_type": "code",
   "execution_count": 15,
   "metadata": {},
   "outputs": [
    {
     "data": {
      "text/plain": [
       "583"
      ]
     },
     "execution_count": 15,
     "metadata": {},
     "output_type": "execute_result"
    }
   ],
   "source": [
    "#remove duplicates\n",
    "mylist = links\n",
    "mylist = list(dict.fromkeys(mylist))\n",
    "len(mylist)"
   ]
  },
  {
   "cell_type": "markdown",
   "metadata": {},
   "source": [
    "## Scrap page content"
   ]
  },
  {
   "cell_type": "code",
   "execution_count": 26,
   "metadata": {},
   "outputs": [],
   "source": [
    "#g =r'C:\\\\Users\\\\romeo\\\\OneDrive\\\\Documents\\\\ELU\\\\geckodriver\\\\geckodriver.exe'\n",
    "driver = webdriver.Firefox(executable_path = g)\n",
    "fon = []\n",
    "fre = []\n"
   ]
  },
  {
   "cell_type": "code",
   "execution_count": 27,
   "metadata": {},
   "outputs": [],
   "source": [
    "def artscrap(ur):\n",
    "    driver.get(ur)\n",
    "    #elefon = driver.find_element_by_xpath(\"//div[@class='pGroup']\")\n",
    "    elefon = driver.find_elements_by_class_name(\"section\")\n",
    "    \n",
    "    for j in elefon:\n",
    "        fon.append(j.text)\n",
    "    \n",
    "    #inputElement = driver.find_element_by_xpath(\"//input[@class='jsAutoComplete jsShowFeatured jsAutoCompleteInput autoCompleteLanguageChoices']\")\n",
    "    inputElement = driver.find_element_by_xpath(\"//input[contains(@class, 'jsAutoComplete jsShowFeatured')]\")\n",
    "\n",
    "    inputElement.send_keys('Flansegbe')\n",
    "    time.sleep(10)\n",
    "    inputElement.send_keys(Keys.ENTER)\n",
    "    inputElement.send_keys(Keys.ENTER)\n",
    "    \n",
    "    time.sleep(10) \n",
    "    \n",
    "    elefre = driver.find_elements_by_class_name(\"section\")\n",
    "\n",
    "    for k in elefre:\n",
    "        fre.append(k.text)"
   ]
  },
  {
   "cell_type": "code",
   "execution_count": 28,
   "metadata": {},
   "outputs": [
    {
     "name": "stdout",
     "output_type": "stream",
     "text": [
      "0\n",
      "1\n",
      "2\n",
      "3\n",
      "4\n",
      "5\n",
      "6\n",
      "7\n",
      "8\n",
      "9\n",
      "10\n",
      "11\n",
      "12\n",
      "13\n",
      "14\n",
      "15\n",
      "16\n",
      "17\n",
      "18\n",
      "19\n",
      "20\n",
      "21\n",
      "22\n",
      "23\n",
      "24\n",
      "25\n",
      "26\n",
      "27\n",
      "28\n",
      "29\n",
      "30\n",
      "31\n",
      "32\n",
      "33\n",
      "34\n",
      "35\n",
      "36\n",
      "37\n",
      "38\n",
      "39\n",
      "40\n",
      "41\n",
      "42\n",
      "43\n",
      "44\n",
      "45\n",
      "46\n",
      "47\n",
      "48\n",
      "49\n",
      "50\n",
      "51\n",
      "52\n",
      "53\n",
      "54\n",
      "55\n",
      "56\n",
      "57\n",
      "58\n",
      "59\n",
      "60\n",
      "61\n",
      "62\n",
      "63\n",
      "64\n",
      "65\n",
      "66\n",
      "67\n",
      "68\n",
      "69\n",
      "70\n",
      "71\n",
      "72\n",
      "73\n",
      "74\n",
      "75\n",
      "76\n",
      "77\n",
      "78\n",
      "79\n",
      "80\n",
      "81\n",
      "82\n",
      "83\n",
      "84\n",
      "85\n",
      "86\n",
      "87\n",
      "88\n",
      "89\n",
      "90\n",
      "91\n",
      "92\n",
      "93\n",
      "94\n",
      "95\n",
      "96\n",
      "97\n",
      "98\n",
      "99\n",
      "100\n",
      "101\n",
      "102\n",
      "103\n",
      "104\n",
      "105\n",
      "106\n",
      "107\n",
      "108\n",
      "109\n",
      "110\n",
      "111\n",
      "112\n",
      "113\n",
      "114\n",
      "115\n",
      "116\n",
      "117\n",
      "118\n",
      "119\n",
      "120\n",
      "121\n",
      "122\n",
      "123\n",
      "124\n",
      "125\n",
      "126\n",
      "127\n",
      "128\n",
      "129\n",
      "130\n",
      "131\n",
      "132\n",
      "133\n",
      "134\n",
      "135\n",
      "136\n",
      "137\n",
      "138\n",
      "139\n",
      "140\n",
      "141\n",
      "142\n",
      "143\n",
      "144\n",
      "145\n",
      "146\n",
      "147\n",
      "148\n",
      "149\n",
      "150\n",
      "151\n",
      "152\n",
      "153\n",
      "154\n",
      "155\n",
      "156\n",
      "157\n",
      "158\n",
      "159\n",
      "160\n",
      "161\n",
      "162\n",
      "163\n",
      "164\n",
      "165\n",
      "166\n",
      "167\n",
      "168\n",
      "169\n",
      "170\n",
      "171\n",
      "172\n",
      "173\n",
      "174\n",
      "175\n",
      "176\n",
      "177\n",
      "178\n",
      "179\n",
      "180\n",
      "181\n",
      "182\n",
      "183\n",
      "184\n",
      "185\n",
      "186\n",
      "187\n",
      "188\n",
      "189\n",
      "190\n",
      "191\n",
      "192\n",
      "193\n",
      "194\n",
      "195\n",
      "196\n",
      "197\n",
      "198\n",
      "199\n",
      "200\n",
      "201\n",
      "202\n",
      "203\n",
      "204\n",
      "205\n",
      "206\n",
      "207\n",
      "208\n",
      "209\n",
      "210\n",
      "211\n",
      "212\n",
      "213\n",
      "214\n",
      "215\n",
      "216\n",
      "217\n",
      "218\n",
      "219\n",
      "220\n",
      "221\n",
      "222\n",
      "223\n",
      "224\n",
      "225\n",
      "226\n",
      "227\n",
      "228\n",
      "229\n",
      "230\n",
      "231\n",
      "232\n",
      "233\n",
      "234\n",
      "235\n",
      "236\n",
      "237\n",
      "238\n",
      "239\n",
      "240\n",
      "241\n"
     ]
    },
    {
     "ename": "NoSuchElementException",
     "evalue": "Message: Unable to locate element: //input[contains(@class, 'jsAutoComplete jsShowFeatured')]\n",
     "output_type": "error",
     "traceback": [
      "\u001b[1;31m---------------------------------------------------------------------------\u001b[0m",
      "\u001b[1;31mNoSuchElementException\u001b[0m                    Traceback (most recent call last)",
      "\u001b[1;32m<ipython-input-28-8758b1fb9f0f>\u001b[0m in \u001b[0;36m<module>\u001b[1;34m\u001b[0m\n\u001b[0;32m      2\u001b[0m \u001b[1;32mfor\u001b[0m \u001b[0mu\u001b[0m \u001b[1;32min\u001b[0m \u001b[0mmylist\u001b[0m\u001b[1;33m:\u001b[0m\u001b[1;33m\u001b[0m\u001b[1;33m\u001b[0m\u001b[0m\n\u001b[0;32m      3\u001b[0m     \u001b[0mprint\u001b[0m\u001b[1;33m(\u001b[0m\u001b[0mi\u001b[0m\u001b[1;33m)\u001b[0m\u001b[1;33m\u001b[0m\u001b[1;33m\u001b[0m\u001b[0m\n\u001b[1;32m----> 4\u001b[1;33m     \u001b[0martscrap\u001b[0m\u001b[1;33m(\u001b[0m\u001b[0mu\u001b[0m\u001b[1;33m)\u001b[0m\u001b[1;33m\u001b[0m\u001b[1;33m\u001b[0m\u001b[0m\n\u001b[0m\u001b[0;32m      5\u001b[0m     \u001b[0mi\u001b[0m\u001b[1;33m=\u001b[0m\u001b[0mi\u001b[0m\u001b[1;33m+\u001b[0m\u001b[1;36m1\u001b[0m\u001b[1;33m\u001b[0m\u001b[1;33m\u001b[0m\u001b[0m\n",
      "\u001b[1;32m<ipython-input-27-935b9e51d688>\u001b[0m in \u001b[0;36martscrap\u001b[1;34m(ur)\u001b[0m\n\u001b[0;32m      8\u001b[0m \u001b[1;33m\u001b[0m\u001b[0m\n\u001b[0;32m      9\u001b[0m     \u001b[1;31m#inputElement = driver.find_element_by_xpath(\"//input[@class='jsAutoComplete jsShowFeatured jsAutoCompleteInput autoCompleteLanguageChoices']\")\u001b[0m\u001b[1;33m\u001b[0m\u001b[1;33m\u001b[0m\u001b[1;33m\u001b[0m\u001b[0m\n\u001b[1;32m---> 10\u001b[1;33m     \u001b[0minputElement\u001b[0m \u001b[1;33m=\u001b[0m \u001b[0mdriver\u001b[0m\u001b[1;33m.\u001b[0m\u001b[0mfind_element_by_xpath\u001b[0m\u001b[1;33m(\u001b[0m\u001b[1;34m\"//input[contains(@class, 'jsAutoComplete jsShowFeatured')]\"\u001b[0m\u001b[1;33m)\u001b[0m\u001b[1;33m\u001b[0m\u001b[1;33m\u001b[0m\u001b[0m\n\u001b[0m\u001b[0;32m     11\u001b[0m \u001b[1;33m\u001b[0m\u001b[0m\n\u001b[0;32m     12\u001b[0m     \u001b[0minputElement\u001b[0m\u001b[1;33m.\u001b[0m\u001b[0msend_keys\u001b[0m\u001b[1;33m(\u001b[0m\u001b[1;34m'Flansegbe'\u001b[0m\u001b[1;33m)\u001b[0m\u001b[1;33m\u001b[0m\u001b[1;33m\u001b[0m\u001b[0m\n",
      "\u001b[1;32m~\\Anaconda3\\lib\\site-packages\\selenium\\webdriver\\remote\\webdriver.py\u001b[0m in \u001b[0;36mfind_element_by_xpath\u001b[1;34m(self, xpath)\u001b[0m\n\u001b[0;32m    392\u001b[0m             \u001b[0melement\u001b[0m \u001b[1;33m=\u001b[0m \u001b[0mdriver\u001b[0m\u001b[1;33m.\u001b[0m\u001b[0mfind_element_by_xpath\u001b[0m\u001b[1;33m(\u001b[0m\u001b[1;34m'//div/td[1]'\u001b[0m\u001b[1;33m)\u001b[0m\u001b[1;33m\u001b[0m\u001b[1;33m\u001b[0m\u001b[0m\n\u001b[0;32m    393\u001b[0m         \"\"\"\n\u001b[1;32m--> 394\u001b[1;33m         \u001b[1;32mreturn\u001b[0m \u001b[0mself\u001b[0m\u001b[1;33m.\u001b[0m\u001b[0mfind_element\u001b[0m\u001b[1;33m(\u001b[0m\u001b[0mby\u001b[0m\u001b[1;33m=\u001b[0m\u001b[0mBy\u001b[0m\u001b[1;33m.\u001b[0m\u001b[0mXPATH\u001b[0m\u001b[1;33m,\u001b[0m \u001b[0mvalue\u001b[0m\u001b[1;33m=\u001b[0m\u001b[0mxpath\u001b[0m\u001b[1;33m)\u001b[0m\u001b[1;33m\u001b[0m\u001b[1;33m\u001b[0m\u001b[0m\n\u001b[0m\u001b[0;32m    395\u001b[0m \u001b[1;33m\u001b[0m\u001b[0m\n\u001b[0;32m    396\u001b[0m     \u001b[1;32mdef\u001b[0m \u001b[0mfind_elements_by_xpath\u001b[0m\u001b[1;33m(\u001b[0m\u001b[0mself\u001b[0m\u001b[1;33m,\u001b[0m \u001b[0mxpath\u001b[0m\u001b[1;33m)\u001b[0m\u001b[1;33m:\u001b[0m\u001b[1;33m\u001b[0m\u001b[1;33m\u001b[0m\u001b[0m\n",
      "\u001b[1;32m~\\Anaconda3\\lib\\site-packages\\selenium\\webdriver\\remote\\webdriver.py\u001b[0m in \u001b[0;36mfind_element\u001b[1;34m(self, by, value)\u001b[0m\n\u001b[0;32m    976\u001b[0m         return self.execute(Command.FIND_ELEMENT, {\n\u001b[0;32m    977\u001b[0m             \u001b[1;34m'using'\u001b[0m\u001b[1;33m:\u001b[0m \u001b[0mby\u001b[0m\u001b[1;33m,\u001b[0m\u001b[1;33m\u001b[0m\u001b[1;33m\u001b[0m\u001b[0m\n\u001b[1;32m--> 978\u001b[1;33m             'value': value})['value']\n\u001b[0m\u001b[0;32m    979\u001b[0m \u001b[1;33m\u001b[0m\u001b[0m\n\u001b[0;32m    980\u001b[0m     \u001b[1;32mdef\u001b[0m \u001b[0mfind_elements\u001b[0m\u001b[1;33m(\u001b[0m\u001b[0mself\u001b[0m\u001b[1;33m,\u001b[0m \u001b[0mby\u001b[0m\u001b[1;33m=\u001b[0m\u001b[0mBy\u001b[0m\u001b[1;33m.\u001b[0m\u001b[0mID\u001b[0m\u001b[1;33m,\u001b[0m \u001b[0mvalue\u001b[0m\u001b[1;33m=\u001b[0m\u001b[1;32mNone\u001b[0m\u001b[1;33m)\u001b[0m\u001b[1;33m:\u001b[0m\u001b[1;33m\u001b[0m\u001b[1;33m\u001b[0m\u001b[0m\n",
      "\u001b[1;32m~\\Anaconda3\\lib\\site-packages\\selenium\\webdriver\\remote\\webdriver.py\u001b[0m in \u001b[0;36mexecute\u001b[1;34m(self, driver_command, params)\u001b[0m\n\u001b[0;32m    319\u001b[0m         \u001b[0mresponse\u001b[0m \u001b[1;33m=\u001b[0m \u001b[0mself\u001b[0m\u001b[1;33m.\u001b[0m\u001b[0mcommand_executor\u001b[0m\u001b[1;33m.\u001b[0m\u001b[0mexecute\u001b[0m\u001b[1;33m(\u001b[0m\u001b[0mdriver_command\u001b[0m\u001b[1;33m,\u001b[0m \u001b[0mparams\u001b[0m\u001b[1;33m)\u001b[0m\u001b[1;33m\u001b[0m\u001b[1;33m\u001b[0m\u001b[0m\n\u001b[0;32m    320\u001b[0m         \u001b[1;32mif\u001b[0m \u001b[0mresponse\u001b[0m\u001b[1;33m:\u001b[0m\u001b[1;33m\u001b[0m\u001b[1;33m\u001b[0m\u001b[0m\n\u001b[1;32m--> 321\u001b[1;33m             \u001b[0mself\u001b[0m\u001b[1;33m.\u001b[0m\u001b[0merror_handler\u001b[0m\u001b[1;33m.\u001b[0m\u001b[0mcheck_response\u001b[0m\u001b[1;33m(\u001b[0m\u001b[0mresponse\u001b[0m\u001b[1;33m)\u001b[0m\u001b[1;33m\u001b[0m\u001b[1;33m\u001b[0m\u001b[0m\n\u001b[0m\u001b[0;32m    322\u001b[0m             response['value'] = self._unwrap_value(\n\u001b[0;32m    323\u001b[0m                 response.get('value', None))\n",
      "\u001b[1;32m~\\Anaconda3\\lib\\site-packages\\selenium\\webdriver\\remote\\errorhandler.py\u001b[0m in \u001b[0;36mcheck_response\u001b[1;34m(self, response)\u001b[0m\n\u001b[0;32m    240\u001b[0m                 \u001b[0malert_text\u001b[0m \u001b[1;33m=\u001b[0m \u001b[0mvalue\u001b[0m\u001b[1;33m[\u001b[0m\u001b[1;34m'alert'\u001b[0m\u001b[1;33m]\u001b[0m\u001b[1;33m.\u001b[0m\u001b[0mget\u001b[0m\u001b[1;33m(\u001b[0m\u001b[1;34m'text'\u001b[0m\u001b[1;33m)\u001b[0m\u001b[1;33m\u001b[0m\u001b[1;33m\u001b[0m\u001b[0m\n\u001b[0;32m    241\u001b[0m             \u001b[1;32mraise\u001b[0m \u001b[0mexception_class\u001b[0m\u001b[1;33m(\u001b[0m\u001b[0mmessage\u001b[0m\u001b[1;33m,\u001b[0m \u001b[0mscreen\u001b[0m\u001b[1;33m,\u001b[0m \u001b[0mstacktrace\u001b[0m\u001b[1;33m,\u001b[0m \u001b[0malert_text\u001b[0m\u001b[1;33m)\u001b[0m\u001b[1;33m\u001b[0m\u001b[1;33m\u001b[0m\u001b[0m\n\u001b[1;32m--> 242\u001b[1;33m         \u001b[1;32mraise\u001b[0m \u001b[0mexception_class\u001b[0m\u001b[1;33m(\u001b[0m\u001b[0mmessage\u001b[0m\u001b[1;33m,\u001b[0m \u001b[0mscreen\u001b[0m\u001b[1;33m,\u001b[0m \u001b[0mstacktrace\u001b[0m\u001b[1;33m)\u001b[0m\u001b[1;33m\u001b[0m\u001b[1;33m\u001b[0m\u001b[0m\n\u001b[0m\u001b[0;32m    243\u001b[0m \u001b[1;33m\u001b[0m\u001b[0m\n\u001b[0;32m    244\u001b[0m     \u001b[1;32mdef\u001b[0m \u001b[0m_value_or_default\u001b[0m\u001b[1;33m(\u001b[0m\u001b[0mself\u001b[0m\u001b[1;33m,\u001b[0m \u001b[0mobj\u001b[0m\u001b[1;33m,\u001b[0m \u001b[0mkey\u001b[0m\u001b[1;33m,\u001b[0m \u001b[0mdefault\u001b[0m\u001b[1;33m)\u001b[0m\u001b[1;33m:\u001b[0m\u001b[1;33m\u001b[0m\u001b[1;33m\u001b[0m\u001b[0m\n",
      "\u001b[1;31mNoSuchElementException\u001b[0m: Message: Unable to locate element: //input[contains(@class, 'jsAutoComplete jsShowFeatured')]\n"
     ]
    }
   ],
   "source": [
    "i=0\n",
    "for u in mylist:\n",
    "    print(i)\n",
    "    artscrap(u)\n",
    "    i=i+1"
   ]
  },
  {
   "cell_type": "code",
   "execution_count": 31,
   "metadata": {},
   "outputs": [
    {
     "name": "stdout",
     "output_type": "stream",
     "text": [
      "241\n",
      "242\n",
      "243\n",
      "244\n",
      "245\n",
      "246\n",
      "247\n",
      "248\n",
      "249\n",
      "250\n",
      "251\n",
      "252\n",
      "253\n",
      "254\n",
      "255\n",
      "256\n",
      "257\n",
      "258\n",
      "259\n",
      "260\n",
      "261\n",
      "262\n",
      "263\n",
      "264\n",
      "265\n",
      "266\n",
      "267\n",
      "268\n",
      "269\n",
      "270\n",
      "271\n",
      "272\n",
      "273\n",
      "274\n",
      "275\n",
      "276\n",
      "277\n",
      "278\n",
      "279\n",
      "280\n",
      "281\n",
      "282\n",
      "283\n",
      "284\n",
      "285\n",
      "286\n",
      "287\n",
      "288\n",
      "289\n",
      "290\n",
      "291\n",
      "292\n",
      "293\n",
      "294\n",
      "295\n",
      "296\n",
      "297\n",
      "298\n",
      "299\n",
      "300\n",
      "301\n",
      "302\n",
      "303\n",
      "304\n",
      "305\n",
      "306\n",
      "307\n",
      "308\n",
      "309\n",
      "310\n",
      "311\n",
      "312\n",
      "313\n",
      "314\n",
      "315\n",
      "316\n",
      "317\n",
      "318\n",
      "319\n",
      "320\n",
      "321\n",
      "322\n",
      "323\n",
      "324\n",
      "325\n",
      "326\n",
      "327\n",
      "328\n",
      "329\n",
      "330\n",
      "331\n",
      "332\n",
      "333\n",
      "334\n",
      "335\n",
      "336\n",
      "337\n",
      "338\n",
      "339\n",
      "340\n",
      "341\n",
      "342\n",
      "343\n",
      "344\n",
      "345\n",
      "346\n",
      "347\n",
      "348\n",
      "349\n",
      "350\n",
      "351\n",
      "352\n",
      "353\n",
      "354\n",
      "355\n",
      "356\n",
      "357\n",
      "358\n",
      "359\n",
      "360\n",
      "361\n",
      "362\n",
      "363\n",
      "364\n",
      "365\n",
      "366\n",
      "367\n",
      "368\n",
      "369\n",
      "370\n",
      "371\n",
      "372\n",
      "373\n",
      "374\n",
      "375\n",
      "376\n",
      "377\n",
      "378\n",
      "379\n",
      "380\n",
      "381\n",
      "382\n",
      "383\n",
      "384\n",
      "385\n",
      "386\n",
      "387\n",
      "388\n",
      "389\n",
      "390\n",
      "391\n",
      "392\n",
      "393\n",
      "394\n",
      "395\n",
      "396\n",
      "397\n",
      "398\n",
      "399\n",
      "400\n",
      "401\n",
      "402\n",
      "403\n",
      "404\n",
      "405\n",
      "406\n",
      "407\n",
      "408\n",
      "409\n",
      "410\n",
      "411\n",
      "412\n",
      "413\n",
      "414\n",
      "415\n",
      "416\n",
      "417\n",
      "418\n",
      "419\n",
      "420\n",
      "421\n",
      "422\n",
      "423\n",
      "424\n",
      "425\n",
      "426\n",
      "427\n",
      "428\n",
      "429\n",
      "430\n",
      "431\n",
      "432\n",
      "433\n",
      "434\n",
      "435\n",
      "436\n",
      "437\n",
      "438\n",
      "439\n",
      "440\n",
      "441\n",
      "442\n",
      "443\n",
      "444\n",
      "445\n",
      "446\n",
      "447\n",
      "448\n",
      "449\n",
      "450\n",
      "451\n",
      "452\n",
      "453\n",
      "454\n",
      "455\n",
      "456\n",
      "457\n",
      "458\n",
      "459\n",
      "460\n",
      "461\n",
      "462\n",
      "463\n",
      "464\n",
      "465\n",
      "466\n",
      "467\n",
      "468\n",
      "469\n",
      "470\n",
      "471\n",
      "472\n",
      "473\n",
      "474\n",
      "475\n",
      "476\n",
      "477\n",
      "478\n",
      "479\n",
      "480\n",
      "481\n",
      "482\n",
      "483\n",
      "484\n",
      "485\n",
      "486\n",
      "487\n",
      "488\n",
      "489\n",
      "490\n",
      "491\n",
      "492\n",
      "493\n",
      "494\n",
      "495\n",
      "496\n",
      "497\n",
      "498\n",
      "499\n",
      "500\n",
      "501\n",
      "502\n",
      "503\n",
      "504\n",
      "505\n",
      "506\n",
      "507\n",
      "508\n",
      "509\n",
      "510\n",
      "511\n",
      "512\n",
      "513\n",
      "514\n",
      "515\n",
      "516\n",
      "517\n",
      "518\n",
      "519\n",
      "520\n",
      "521\n",
      "522\n",
      "523\n",
      "524\n",
      "525\n",
      "526\n"
     ]
    },
    {
     "ename": "TimeoutException",
     "evalue": "Message: \n",
     "output_type": "error",
     "traceback": [
      "\u001b[1;31m---------------------------------------------------------------------------\u001b[0m",
      "\u001b[1;31mTimeoutException\u001b[0m                          Traceback (most recent call last)",
      "\u001b[1;32m<ipython-input-31-7d18276c45db>\u001b[0m in \u001b[0;36m<module>\u001b[1;34m\u001b[0m\n\u001b[0;32m      3\u001b[0m \u001b[1;32mfor\u001b[0m \u001b[0mu\u001b[0m \u001b[1;32min\u001b[0m \u001b[0mmylist\u001b[0m\u001b[1;33m[\u001b[0m\u001b[1;36m241\u001b[0m\u001b[1;33m:\u001b[0m\u001b[1;33m]\u001b[0m\u001b[1;33m:\u001b[0m\u001b[1;33m\u001b[0m\u001b[1;33m\u001b[0m\u001b[0m\n\u001b[0;32m      4\u001b[0m     \u001b[0mprint\u001b[0m\u001b[1;33m(\u001b[0m\u001b[0mi\u001b[0m\u001b[1;33m)\u001b[0m\u001b[1;33m\u001b[0m\u001b[1;33m\u001b[0m\u001b[0m\n\u001b[1;32m----> 5\u001b[1;33m     \u001b[0martscrap\u001b[0m\u001b[1;33m(\u001b[0m\u001b[0mu\u001b[0m\u001b[1;33m)\u001b[0m\u001b[1;33m\u001b[0m\u001b[1;33m\u001b[0m\u001b[0m\n\u001b[0m\u001b[0;32m      6\u001b[0m     \u001b[0mi\u001b[0m\u001b[1;33m=\u001b[0m\u001b[0mi\u001b[0m\u001b[1;33m+\u001b[0m\u001b[1;36m1\u001b[0m\u001b[1;33m\u001b[0m\u001b[1;33m\u001b[0m\u001b[0m\n",
      "\u001b[1;32m<ipython-input-27-935b9e51d688>\u001b[0m in \u001b[0;36martscrap\u001b[1;34m(ur)\u001b[0m\n\u001b[0;32m      1\u001b[0m \u001b[1;32mdef\u001b[0m \u001b[0martscrap\u001b[0m\u001b[1;33m(\u001b[0m\u001b[0mur\u001b[0m\u001b[1;33m)\u001b[0m\u001b[1;33m:\u001b[0m\u001b[1;33m\u001b[0m\u001b[1;33m\u001b[0m\u001b[0m\n\u001b[1;32m----> 2\u001b[1;33m     \u001b[0mdriver\u001b[0m\u001b[1;33m.\u001b[0m\u001b[0mget\u001b[0m\u001b[1;33m(\u001b[0m\u001b[0mur\u001b[0m\u001b[1;33m)\u001b[0m\u001b[1;33m\u001b[0m\u001b[1;33m\u001b[0m\u001b[0m\n\u001b[0m\u001b[0;32m      3\u001b[0m     \u001b[1;31m#elefon = driver.find_element_by_xpath(\"//div[@class='pGroup']\")\u001b[0m\u001b[1;33m\u001b[0m\u001b[1;33m\u001b[0m\u001b[1;33m\u001b[0m\u001b[0m\n\u001b[0;32m      4\u001b[0m     \u001b[0melefon\u001b[0m \u001b[1;33m=\u001b[0m \u001b[0mdriver\u001b[0m\u001b[1;33m.\u001b[0m\u001b[0mfind_elements_by_class_name\u001b[0m\u001b[1;33m(\u001b[0m\u001b[1;34m\"section\"\u001b[0m\u001b[1;33m)\u001b[0m\u001b[1;33m\u001b[0m\u001b[1;33m\u001b[0m\u001b[0m\n\u001b[0;32m      5\u001b[0m \u001b[1;33m\u001b[0m\u001b[0m\n",
      "\u001b[1;32m~\\Anaconda3\\lib\\site-packages\\selenium\\webdriver\\remote\\webdriver.py\u001b[0m in \u001b[0;36mget\u001b[1;34m(self, url)\u001b[0m\n\u001b[0;32m    331\u001b[0m         \u001b[0mLoads\u001b[0m \u001b[0ma\u001b[0m \u001b[0mweb\u001b[0m \u001b[0mpage\u001b[0m \u001b[1;32min\u001b[0m \u001b[0mthe\u001b[0m \u001b[0mcurrent\u001b[0m \u001b[0mbrowser\u001b[0m \u001b[0msession\u001b[0m\u001b[1;33m.\u001b[0m\u001b[1;33m\u001b[0m\u001b[1;33m\u001b[0m\u001b[0m\n\u001b[0;32m    332\u001b[0m         \"\"\"\n\u001b[1;32m--> 333\u001b[1;33m         \u001b[0mself\u001b[0m\u001b[1;33m.\u001b[0m\u001b[0mexecute\u001b[0m\u001b[1;33m(\u001b[0m\u001b[0mCommand\u001b[0m\u001b[1;33m.\u001b[0m\u001b[0mGET\u001b[0m\u001b[1;33m,\u001b[0m \u001b[1;33m{\u001b[0m\u001b[1;34m'url'\u001b[0m\u001b[1;33m:\u001b[0m \u001b[0murl\u001b[0m\u001b[1;33m}\u001b[0m\u001b[1;33m)\u001b[0m\u001b[1;33m\u001b[0m\u001b[1;33m\u001b[0m\u001b[0m\n\u001b[0m\u001b[0;32m    334\u001b[0m \u001b[1;33m\u001b[0m\u001b[0m\n\u001b[0;32m    335\u001b[0m     \u001b[1;33m@\u001b[0m\u001b[0mproperty\u001b[0m\u001b[1;33m\u001b[0m\u001b[1;33m\u001b[0m\u001b[0m\n",
      "\u001b[1;32m~\\Anaconda3\\lib\\site-packages\\selenium\\webdriver\\remote\\webdriver.py\u001b[0m in \u001b[0;36mexecute\u001b[1;34m(self, driver_command, params)\u001b[0m\n\u001b[0;32m    319\u001b[0m         \u001b[0mresponse\u001b[0m \u001b[1;33m=\u001b[0m \u001b[0mself\u001b[0m\u001b[1;33m.\u001b[0m\u001b[0mcommand_executor\u001b[0m\u001b[1;33m.\u001b[0m\u001b[0mexecute\u001b[0m\u001b[1;33m(\u001b[0m\u001b[0mdriver_command\u001b[0m\u001b[1;33m,\u001b[0m \u001b[0mparams\u001b[0m\u001b[1;33m)\u001b[0m\u001b[1;33m\u001b[0m\u001b[1;33m\u001b[0m\u001b[0m\n\u001b[0;32m    320\u001b[0m         \u001b[1;32mif\u001b[0m \u001b[0mresponse\u001b[0m\u001b[1;33m:\u001b[0m\u001b[1;33m\u001b[0m\u001b[1;33m\u001b[0m\u001b[0m\n\u001b[1;32m--> 321\u001b[1;33m             \u001b[0mself\u001b[0m\u001b[1;33m.\u001b[0m\u001b[0merror_handler\u001b[0m\u001b[1;33m.\u001b[0m\u001b[0mcheck_response\u001b[0m\u001b[1;33m(\u001b[0m\u001b[0mresponse\u001b[0m\u001b[1;33m)\u001b[0m\u001b[1;33m\u001b[0m\u001b[1;33m\u001b[0m\u001b[0m\n\u001b[0m\u001b[0;32m    322\u001b[0m             response['value'] = self._unwrap_value(\n\u001b[0;32m    323\u001b[0m                 response.get('value', None))\n",
      "\u001b[1;32m~\\Anaconda3\\lib\\site-packages\\selenium\\webdriver\\remote\\errorhandler.py\u001b[0m in \u001b[0;36mcheck_response\u001b[1;34m(self, response)\u001b[0m\n\u001b[0;32m    240\u001b[0m                 \u001b[0malert_text\u001b[0m \u001b[1;33m=\u001b[0m \u001b[0mvalue\u001b[0m\u001b[1;33m[\u001b[0m\u001b[1;34m'alert'\u001b[0m\u001b[1;33m]\u001b[0m\u001b[1;33m.\u001b[0m\u001b[0mget\u001b[0m\u001b[1;33m(\u001b[0m\u001b[1;34m'text'\u001b[0m\u001b[1;33m)\u001b[0m\u001b[1;33m\u001b[0m\u001b[1;33m\u001b[0m\u001b[0m\n\u001b[0;32m    241\u001b[0m             \u001b[1;32mraise\u001b[0m \u001b[0mexception_class\u001b[0m\u001b[1;33m(\u001b[0m\u001b[0mmessage\u001b[0m\u001b[1;33m,\u001b[0m \u001b[0mscreen\u001b[0m\u001b[1;33m,\u001b[0m \u001b[0mstacktrace\u001b[0m\u001b[1;33m,\u001b[0m \u001b[0malert_text\u001b[0m\u001b[1;33m)\u001b[0m\u001b[1;33m\u001b[0m\u001b[1;33m\u001b[0m\u001b[0m\n\u001b[1;32m--> 242\u001b[1;33m         \u001b[1;32mraise\u001b[0m \u001b[0mexception_class\u001b[0m\u001b[1;33m(\u001b[0m\u001b[0mmessage\u001b[0m\u001b[1;33m,\u001b[0m \u001b[0mscreen\u001b[0m\u001b[1;33m,\u001b[0m \u001b[0mstacktrace\u001b[0m\u001b[1;33m)\u001b[0m\u001b[1;33m\u001b[0m\u001b[1;33m\u001b[0m\u001b[0m\n\u001b[0m\u001b[0;32m    243\u001b[0m \u001b[1;33m\u001b[0m\u001b[0m\n\u001b[0;32m    244\u001b[0m     \u001b[1;32mdef\u001b[0m \u001b[0m_value_or_default\u001b[0m\u001b[1;33m(\u001b[0m\u001b[0mself\u001b[0m\u001b[1;33m,\u001b[0m \u001b[0mobj\u001b[0m\u001b[1;33m,\u001b[0m \u001b[0mkey\u001b[0m\u001b[1;33m,\u001b[0m \u001b[0mdefault\u001b[0m\u001b[1;33m)\u001b[0m\u001b[1;33m:\u001b[0m\u001b[1;33m\u001b[0m\u001b[1;33m\u001b[0m\u001b[0m\n",
      "\u001b[1;31mTimeoutException\u001b[0m: Message: \n"
     ]
    }
   ],
   "source": [
    "#mylist[241]\n",
    "i=241\n",
    "for u in mylist[241:]:\n",
    "    print(i)\n",
    "    artscrap(u)\n",
    "    i=i+1"
   ]
  },
  {
   "cell_type": "code",
   "execution_count": 32,
   "metadata": {},
   "outputs": [
    {
     "name": "stdout",
     "output_type": "stream",
     "text": [
      "526\n",
      "527\n",
      "528\n",
      "529\n",
      "530\n",
      "531\n",
      "532\n",
      "533\n",
      "534\n",
      "535\n",
      "536\n",
      "537\n",
      "538\n",
      "539\n",
      "540\n",
      "541\n",
      "542\n",
      "543\n",
      "544\n",
      "545\n",
      "546\n",
      "547\n",
      "548\n",
      "549\n",
      "550\n",
      "551\n",
      "552\n",
      "553\n",
      "554\n",
      "555\n",
      "556\n",
      "557\n",
      "558\n",
      "559\n",
      "560\n",
      "561\n",
      "562\n",
      "563\n",
      "564\n",
      "565\n",
      "566\n",
      "567\n",
      "568\n",
      "569\n",
      "570\n",
      "571\n",
      "572\n",
      "573\n",
      "574\n",
      "575\n",
      "576\n",
      "577\n",
      "578\n",
      "579\n",
      "580\n",
      "581\n",
      "582\n"
     ]
    }
   ],
   "source": [
    "i=526\n",
    "for u in mylist[526:]:\n",
    "    print(i)\n",
    "    artscrap(u)\n",
    "    i=i+1"
   ]
  },
  {
   "cell_type": "code",
   "execution_count": 199,
   "metadata": {},
   "outputs": [
    {
     "name": "stdout",
     "output_type": "stream",
     "text": [
      "3968\n",
      "3970\n"
     ]
    }
   ],
   "source": [
    "print(len(fon))\n",
    "print(len(fre))"
   ]
  },
  {
   "cell_type": "code",
   "execution_count": null,
   "metadata": {},
   "outputs": [],
   "source": [
    "#till 344 it's ok. From 345 a difference of 1 noted with + 1 for french, ie should remove 344 for FRENCH."
   ]
  },
  {
   "cell_type": "code",
   "execution_count": 198,
   "metadata": {},
   "outputs": [
    {
     "name": "stdout",
     "output_type": "stream",
     "text": [
      "\n",
      "\n"
     ]
    }
   ],
   "source": [
    "a=345\n",
    "print(fon[a])\n",
    "print(fre[a+1])"
   ]
  },
  {
   "cell_type": "code",
   "execution_count": null,
   "metadata": {},
   "outputs": [],
   "source": [
    "# till 996 ok. At 997, need to add 2 to fre. So should remove 997 to fre"
   ]
  },
  {
   "cell_type": "code",
   "execution_count": 195,
   "metadata": {},
   "outputs": [
    {
     "name": "stdout",
     "output_type": "stream",
     "text": [
      "NǓSƐXWETƐN\n",
      "NǓSƐXWETƐN\n"
     ]
    }
   ],
   "source": [
    "i = 999\n",
    "print(fon[i])\n",
    "print(fre[i+2])"
   ]
  },
  {
   "cell_type": "code",
   "execution_count": 200,
   "metadata": {},
   "outputs": [],
   "source": [
    "ffon = fon\n",
    "ffre = fre"
   ]
  },
  {
   "cell_type": "code",
   "execution_count": 202,
   "metadata": {},
   "outputs": [
    {
     "data": {
      "text/plain": [
       "'LA TOUR DE GARDE, ÉDITION PUBLIQUE\\nLa recherche de la vérité, no 1\\nQu’est-ce que le royaume de Dieu ?, no 2\\nSoyez béni pour toujours par le Dieu d’amour, no 3'"
      ]
     },
     "execution_count": 202,
     "metadata": {},
     "output_type": "execute_result"
    }
   ],
   "source": [
    "ffre.pop(344)"
   ]
  },
  {
   "cell_type": "code",
   "execution_count": 204,
   "metadata": {},
   "outputs": [
    {
     "data": {
      "text/plain": [
       "'LA TOUR DE GARDE, ÉDITION PUBLIQUE\\nDieu : qui est-il ?, no 1\\nN’y a-t-il rien de mieux que cette vie ?, no 3\\nVaut-il la peine de vivre ?, no 2'"
      ]
     },
     "execution_count": 204,
     "metadata": {},
     "output_type": "execute_result"
    }
   ],
   "source": [
    "ffre.pop(996)"
   ]
  },
  {
   "cell_type": "code",
   "execution_count": 205,
   "metadata": {},
   "outputs": [
    {
     "name": "stdout",
     "output_type": "stream",
     "text": [
      "3968\n",
      "3968\n"
     ]
    }
   ],
   "source": [
    "print(len(ffon))\n",
    "print(len(ffre))"
   ]
  },
  {
   "cell_type": "code",
   "execution_count": null,
   "metadata": {},
   "outputs": [],
   "source": [
    "# Export to CSV"
   ]
  },
  {
   "cell_type": "code",
   "execution_count": 206,
   "metadata": {},
   "outputs": [],
   "source": [
    "# importing pandas as pd   \n",
    "import pandas as pd   \n",
    "     \n",
    "# dictionary of lists   \n",
    "dict = {'fon': ffon, 'french': ffre}   \n",
    "df = pd.DataFrame(dict)  "
   ]
  },
  {
   "cell_type": "code",
   "execution_count": 210,
   "metadata": {},
   "outputs": [],
   "source": [
    "df = df.drop_duplicates()"
   ]
  },
  {
   "cell_type": "code",
   "execution_count": 216,
   "metadata": {},
   "outputs": [],
   "source": [
    "df['fon'].replace('', np.nan, inplace=True)\n",
    "df['french'].replace('', np.nan, inplace=True)\n",
    "#"
   ]
  },
  {
   "cell_type": "code",
   "execution_count": 220,
   "metadata": {},
   "outputs": [
    {
     "data": {
      "text/html": [
       "<div>\n",
       "<style scoped>\n",
       "    .dataframe tbody tr th:only-of-type {\n",
       "        vertical-align: middle;\n",
       "    }\n",
       "\n",
       "    .dataframe tbody tr th {\n",
       "        vertical-align: top;\n",
       "    }\n",
       "\n",
       "    .dataframe thead th {\n",
       "        text-align: right;\n",
       "    }\n",
       "</style>\n",
       "<table border=\"1\" class=\"dataframe\">\n",
       "  <thead>\n",
       "    <tr style=\"text-align: right;\">\n",
       "      <th></th>\n",
       "      <th>fon</th>\n",
       "      <th>french</th>\n",
       "    </tr>\n",
       "  </thead>\n",
       "  <tbody>\n",
       "    <tr>\n",
       "      <th>2</th>\n",
       "      <td>NǓSƐXWETƐN</td>\n",
       "      <td>NǓSƐXWETƐN</td>\n",
       "    </tr>\n",
       "    <tr>\n",
       "      <th>3</th>\n",
       "      <td>Nú María, Raúl, Arne kpo mɛ gegě ɖevo lɛ kpo ɔ...</td>\n",
       "      <td>María, Raúl, Arne et beaucoup d’autres voient ...</td>\n",
       "    </tr>\n",
       "    <tr>\n",
       "      <th>7</th>\n",
       "      <td>MAWU NƆ ÐÓTÓ MǏ.\\n“Hwi wɛ nɔ sè ɖɛ, enɛ wu ɔ,...</td>\n",
       "      <td>OUI, DIEU ÉCOUTE\\n« Ô toi qui écoutes la prièr...</td>\n",
       "    </tr>\n",
       "    <tr>\n",
       "      <th>8</th>\n",
       "      <td>MAWU BA ÐƆ A NI NƆ XOÐƐ SƐ́DÓ EMI.\\n“Mi nɔ ɖó...</td>\n",
       "      <td>DIEU TIENT À CE QUE VOUS LE PRIIEZ\\n« Persévé...</td>\n",
       "    </tr>\n",
       "    <tr>\n",
       "      <th>9</th>\n",
       "      <td>MAWU NƆ KPÉ NUKÚN WǓ WE DÓO.\\n“Mi zlɔ́n nǔ e ɖ...</td>\n",
       "      <td>DIEU S’INTÉRESSE VRAIMENT À VOUS\\n‘Déchargez-v...</td>\n",
       "    </tr>\n",
       "  </tbody>\n",
       "</table>\n",
       "</div>"
      ],
      "text/plain": [
       "                                                 fon  \\\n",
       "2                                         NǓSƐXWETƐN   \n",
       "3  Nú María, Raúl, Arne kpo mɛ gegě ɖevo lɛ kpo ɔ...   \n",
       "7  MAWU NƆ ÐÓTÓ MǏ.\\n“Hwi wɛ nɔ sè ɖɛ, enɛ wu ɔ,...   \n",
       "8   MAWU BA ÐƆ A NI NƆ XOÐƐ SƐ́DÓ EMI.\\n“Mi nɔ ɖó...   \n",
       "9  MAWU NƆ KPÉ NUKÚN WǓ WE DÓO.\\n“Mi zlɔ́n nǔ e ɖ...   \n",
       "\n",
       "                                              french  \n",
       "2                                         NǓSƐXWETƐN  \n",
       "3  María, Raúl, Arne et beaucoup d’autres voient ...  \n",
       "7  OUI, DIEU ÉCOUTE\\n« Ô toi qui écoutes la prièr...  \n",
       "8   DIEU TIENT À CE QUE VOUS LE PRIIEZ\\n« Persévé...  \n",
       "9  DIEU S’INTÉRESSE VRAIMENT À VOUS\\n‘Déchargez-v...  "
      ]
     },
     "execution_count": 220,
     "metadata": {},
     "output_type": "execute_result"
    }
   ],
   "source": [
    "df = df.dropna()\n",
    "df.head()"
   ]
  },
  {
   "cell_type": "code",
   "execution_count": 221,
   "metadata": {},
   "outputs": [],
   "source": [
    "# saving the dataframe  \n",
    "df.to_csv('JW1.csv') "
   ]
  },
  {
   "cell_type": "code",
   "execution_count": null,
   "metadata": {},
   "outputs": [],
   "source": [
    "# Transformations"
   ]
  },
  {
   "cell_type": "code",
   "execution_count": 419,
   "metadata": {},
   "outputs": [],
   "source": [
    "df = df.apply(lambda x: x.str.replace('.”','”'))\n",
    "df = df.apply(lambda x: x.str.replace(' »','»'))\n",
    "df = df.apply(lambda x: x.str.replace('« ','«'))\n",
    "df = df.apply(lambda x: x.str.replace('.»','»'))\n",
    "df = df.apply(lambda x: x.str.replace('. »','»'))"
   ]
  },
  {
   "cell_type": "code",
   "execution_count": null,
   "metadata": {},
   "outputs": [],
   "source": []
  },
  {
   "cell_type": "code",
   "execution_count": 420,
   "metadata": {},
   "outputs": [
    {
     "data": {
      "application/javascript": [
       "\n",
       "        if (window._pyforest_update_imports_cell) { window._pyforest_update_imports_cell('import re'); }\n",
       "    "
      ],
      "text/plain": [
       "<IPython.core.display.Javascript object>"
      ]
     },
     "metadata": {},
     "output_type": "display_data"
    },
    {
     "data": {
      "application/javascript": [
       "\n",
       "        if (window._pyforest_update_imports_cell) { window._pyforest_update_imports_cell('import re'); }\n",
       "    "
      ],
      "text/plain": [
       "<IPython.core.display.Javascript object>"
      ]
     },
     "metadata": {},
     "output_type": "display_data"
    },
    {
     "data": {
      "application/javascript": [
       "\n",
       "        if (window._pyforest_update_imports_cell) { window._pyforest_update_imports_cell('import re'); }\n",
       "    "
      ],
      "text/plain": [
       "<IPython.core.display.Javascript object>"
      ]
     },
     "metadata": {},
     "output_type": "display_data"
    },
    {
     "data": {
      "text/plain": [
       "'María, Raúl, Arne et beaucoup d’autres voient la prière comme une possibilité extraordinaire offerte aux humains. Ils sont persuadés que par le moyen de la prière, ils peuvent parler à Dieu, le remercier et chercher son aide. Ils sont intimement convaincus que cette déclaration de la Bible au sujet de la prière est vraie : «Voici de quoi nous pouvons être sûrs au sujet de Dieu : il nous écoute, quelle que soit la chose que nous demandons en accord avec sa volont» (1 Jean 5:14).À l’opposé, beaucoup de personnes ont du mal à croire ce que la Bible dit à propos de la prière. Steve raconte le ressenti qu’il a eu un jour à ce sujet : «Quand j’avais 17 ans, trois de mes amis sont morts, l’un dans un accident de voiture, les deux autres, noyés en mer» Qu’a fait Steve ? «J’ai prié Dieu pour qu’il me dise pourquoi tout ça s’était passé. Mais je n’ai eu aucune réponse. Alors je me suis dit : “À quoi bon pr» De même, pensant ne pas avoir de réponses à leurs prières, beaucoup se demandent s’il vaut vraiment la peine de prier.D’autres raisons peuvent faire douter de l’intérêt de la prière. Certains disent que, puisqu’il sait tout, Dieu est déjà au courant de nos besoins et de nos problèmes, donc c’est inutile de lui en parler !D’autres croient que Dieu ne veut pas écouter leurs prières à cause de fautes qu’ils ont commises dans le passé. «Mon plus gros obstacle, dit Jenny, c’est que j’ai l’impression d’être une bonne à rien. J’ai fait des choses que je regrette, donc je suis persuadée de ne pas mériter que Dieu m’écoute»\\nEt vous, quel est votre point de vue sur la prière ? S’il vous arrive d’avoir le même genre de doutes ou d’inquiétudes au sujet de la prière, la Bible peut vous apporter du réconfort par les réponses rassurantes qu’elle donne à vos questions. C’est la mieux placée pour nous renseigner sur la prière\\n *\\n. Elle peut nous aider à trouver la réponse à des questions comme :\\nDieu entend-il vraiment nos prières ?\\nPourquoi certaines prières restent-elles sans réponse ?\\nComment prier de manière à être entendu ?\\nQue peut nous apporter la prière ?'"
      ]
     },
     "execution_count": 420,
     "metadata": {},
     "output_type": "execute_result"
    }
   ],
   "source": [
    "df['french'][3] = re.sub(r'\"[^\"]*(?:\"\"[^\"]*)*\"', lambda m: m.group(0).replace(\"\\n\", \"\"), df['french'][3])\n",
    "df['french'][3] = re.sub(r'«[^\"]*(?:\"\"[^\"]*)*»', lambda m: m.group(0).replace(\"\\n\", \"\"), df['french'][3])\n",
    "df['french'][3] = re.sub(r'\"[^\"]+\"', lambda m: m.group(0).replace(\"\\n\", \"\"), df['french'][3])\n",
    "df['french'][3]"
   ]
  },
  {
   "cell_type": "code",
   "execution_count": 421,
   "metadata": {},
   "outputs": [
    {
     "data": {
      "application/javascript": [
       "\n",
       "        if (window._pyforest_update_imports_cell) { window._pyforest_update_imports_cell('import re'); }\n",
       "    "
      ],
      "text/plain": [
       "<IPython.core.display.Javascript object>"
      ]
     },
     "metadata": {},
     "output_type": "display_data"
    },
    {
     "data": {
      "application/javascript": [
       "\n",
       "        if (window._pyforest_update_imports_cell) { window._pyforest_update_imports_cell('import re'); }\n",
       "    "
      ],
      "text/plain": [
       "<IPython.core.display.Javascript object>"
      ]
     },
     "metadata": {},
     "output_type": "display_data"
    },
    {
     "data": {
      "application/javascript": [
       "\n",
       "        if (window._pyforest_update_imports_cell) { window._pyforest_update_imports_cell('import re'); }\n",
       "    "
      ],
      "text/plain": [
       "<IPython.core.display.Javascript object>"
      ]
     },
     "metadata": {},
     "output_type": "display_data"
    },
    {
     "data": {
      "application/javascript": [
       "\n",
       "        if (window._pyforest_update_imports_cell) { window._pyforest_update_imports_cell('import re'); }\n",
       "    "
      ],
      "text/plain": [
       "<IPython.core.display.Javascript object>"
      ]
     },
     "metadata": {},
     "output_type": "display_data"
    },
    {
     "data": {
      "text/plain": [
       "'María, Raúl, Arne et beaucoup d’autres voient la prière comme une possibilité extraordinaire offerte aux humains. Ils sont persuadés que par le moyen de la prière, ils peuvent parler à Dieu, le remercier et chercher son aide. Ils sont intimement convaincus que cette déclaration de la Bible au sujet de la prière est vraie : «Voici de quoi nous pouvons être sûrs au sujet de Dieu : il nous écoute, quelle que soit la chose que nous demandons en accord avec sa volont» (1 Jean 5:14).À l’opposé, beaucoup de personnes ont du mal à croire ce que la Bible dit à propos de la prière. Steve raconte le ressenti qu’il a eu un jour à ce sujet : «Quand j’avais 17 ans, trois de mes amis sont morts, l’un dans un accident de voiture, les deux autres, noyés en mer» Qu’a fait Steve ? «J’ai prié Dieu pour qu’il me dise pourquoi tout ça s’était passé. Mais je n’ai eu aucune réponse. Alors je me suis dit : “À quoi bon pr» De même, pensant ne pas avoir de réponses à leurs prières, beaucoup se demandent s’il vaut vraiment la peine de prier.D’autres raisons peuvent faire douter de l’intérêt de la prière. Certains disent que, puisqu’il sait tout, Dieu est déjà au courant de nos besoins et de nos problèmes, donc c’est inutile de lui en parler !D’autres croient que Dieu ne veut pas écouter leurs prières à cause de fautes qu’ils ont commises dans le passé. «Mon plus gros obstacle, dit Jenny, c’est que j’ai l’impression d’être une bonne à rien. J’ai fait des choses que je regrette, donc je suis persuadée de ne pas mériter que Dieu m’écoute»\\nEt vous, quel est votre point de vue sur la prière ? S’il vous arrive d’avoir le même genre de doutes ou d’inquiétudes au sujet de la prière, la Bible peut vous apporter du réconfort par les réponses rassurantes qu’elle donne à vos questions. C’est la mieux placée pour nous renseigner sur la prière\\n *\\n. Elle peut nous aider à trouver la réponse à des questions comme :\\nDieu entend-il vraiment nos prières ?\\nPourquoi certaines prières restent-elles sans réponse ?\\nComment prier de manière à être entendu ?\\nQue peut nous apporter la prière ?'"
      ]
     },
     "execution_count": 421,
     "metadata": {},
     "output_type": "execute_result"
    }
   ],
   "source": [
    "t = re.sub(r'\"[^\"]*(?:\"\"[^\"]*)*\"', lambda m: m.group(0).replace(\"\\n\", \"\"), df['french'][3])\n",
    "t = re.sub(r'«[^\"]*(?:\"\"[^\"]*)*»', lambda m: m.group(0).replace(\"\\n\", \"\"), t)\n",
    "t = re.sub(r'\"[^\"]+\"', lambda m: m.group(0).replace(\"\\n\", \"\"), t)\n",
    "t = re.sub(r'“[^\"]*(?:\"\"[^\"]*)*”', lambda m: m.group(0).replace(\"\\n\", \"\"), t)\n",
    "t"
   ]
  },
  {
   "cell_type": "code",
   "execution_count": 422,
   "metadata": {},
   "outputs": [
    {
     "data": {
      "application/javascript": [
       "\n",
       "        if (window._pyforest_update_imports_cell) { window._pyforest_update_imports_cell('import re'); }\n",
       "    "
      ],
      "text/plain": [
       "<IPython.core.display.Javascript object>"
      ]
     },
     "metadata": {},
     "output_type": "display_data"
    },
    {
     "data": {
      "application/javascript": [
       "\n",
       "        if (window._pyforest_update_imports_cell) { window._pyforest_update_imports_cell('import re'); }\n",
       "    "
      ],
      "text/plain": [
       "<IPython.core.display.Javascript object>"
      ]
     },
     "metadata": {},
     "output_type": "display_data"
    },
    {
     "data": {
      "application/javascript": [
       "\n",
       "        if (window._pyforest_update_imports_cell) { window._pyforest_update_imports_cell('import re'); }\n",
       "    "
      ],
      "text/plain": [
       "<IPython.core.display.Javascript object>"
      ]
     },
     "metadata": {},
     "output_type": "display_data"
    },
    {
     "data": {
      "application/javascript": [
       "\n",
       "        if (window._pyforest_update_imports_cell) { window._pyforest_update_imports_cell('import re'); }\n",
       "    "
      ],
      "text/plain": [
       "<IPython.core.display.Javascript object>"
      ]
     },
     "metadata": {},
     "output_type": "display_data"
    },
    {
     "data": {
      "text/plain": [
       "'Nú María, Raúl, Arne kpo mɛ gegě ɖevo lɛ kpo ɔ, ɖɛ nyí nǔnina bǔnɔ ɖé. Ye nɔ mɔ ɖɔ mǐ sixu ɖɔ xó nú Mawu, dó kú n’i, bo lɛ́ byɔ alɔdó tɔn gbɔn ɖɛxixo gblamɛ. Ye kúdeji mlɛ́mlɛ́ ɖɔ nǔ e Biblu ɖɔ dó ɖɛxixo sɛ́dó Mawu wu é ɔ, nǔgbo wɛ: “Mǐ ɖó ganjɛwu kpíkpé ɖò Mawu nukɔn ɖɔ mǐ byɔ nǔ ɖebǔ nú é sɔgbe xá jlǒ tɔn ɔ, é nɔ ɖót”—1 Jaan 5:14.Ðò alɔ ɖevo mɛ ɔ, é nɔ vɛwǔ nú mɛ gegě bɔ ye na yí gbè nú nǔ e Biblu ɖɔ dó ɖɛxixo wu é. Steve ɖè lee nǔ cí n’i dó ɖɛxixo wu é xlɛ́, bo ɖɔ: “Hwenu e un ɖò xwè 17 mɔ̌ ɖó wɛ é ɔ, xɔ́ntɔn ce atɔn kú ɖò nǔ d’abaɖa we hwenu. Mɔ̌to gbà dó mɛ ɖokpo b’ɛ kú, bɔ xù sɔ́ mɛ we ɖě l” Etɛ Steve ka wà? “Un xoɖɛ sɛ́dó Mawu bo na dó tuùn nǔ e wu nǔ enɛ lɛ bǐ jɛ é, amɔ̌, un mɔ sinkɔn ɖě ǎ. Enɛ wu ɔ, un kanbyɔ nyiɖée ɖɔ, ‘Tɛwu un ka na kpò ɖò ɖɛ xò” Mɛ gegě nɔ mɔ ɖɔ è kún na sinkɔn nú ɖɛ emitɔn lɛ ó, bɔ enɛ wu ɔ, ye nɔ kan nǔ e wu ye ɖó na kpò ɖò ɖɛ xò wɛ é byɔ yeɖée.É nɔ lɛ́ sín nǔ ɖevo lɛ wu, bɔ mɛ lɛ nɔ xò nǔ kpɔ́n dó ɖɛxixo wu. Mɛɖé lɛ nɔ ɖɔ ɖɔ, ɖó Mawu tuùn nǔ lɛ bǐ wu ɔ, é ko tuùn nǔ e hudo mǐ lɛ é kpo ninɔmɛ e ɖí xwi xá wɛ mǐ ɖè lɛ é kpo, enɛ wu ɔ, é kún sɔ́ byɔ ɖɔ è ni ɖɔ nǔ enɛ lɛ n’i ó.Mɛ ɖevo lɛ ɖi ɖɔ Mawu kún nɔ ba na ɖótó ɖɛ yetɔn lɛ ó, ɖó nǔ e ye wà nyi dò wá yì lɛ é wu. Jenny ɖɔ: “Wuvɛ̌ ɖaxó e un nɔ mɔ hugǎn é wɛ nyí ɖɔ, un nɔ mɔ ɖɔ un kún hwɛ́n nǔtí ó. Un wà nǔ e wá vɛ́ nú mì lɛ é, enɛ wu ɔ, un nɔ ɖɔ nú nyiɖée ɖɔ un kún jɛxa bonu Mawu na ɖótó ”\\nNɛ̌ nǔ ka nɔ cí nú we dó ɖɛxixo wu? Enyi nǔ ko cí mɔ̌ nú we kpɔ́n, alǒ, a nɔ xò nǔ kpɔ́n dó ɖɛxixo wu wɛ nyí ɔ, tuùntuùn ɖɔ xósin e sixu jɛmɛ nú mɛ lɛ é ɖò Biblu mɛ sixu dó gbɔ nú we. Mǐ sixu ɖeji dó nǔ e Biblu ɖɔ dó ɖɛxixo\\n *\\nwu é wu, é sixu d’alɔ we bɔ a na mɔ xósin nú nǔkanbyɔ lěhun lɛ:\\nMawu ka nɔ ɖótó ɖɛ mǐtɔn lɛ dóo à?\\nTɛwu è ma ka nɔ mɔ sinkɔn nú ɖɛ ɖé lɛ ǎ?\\nNɛ̌ a ka sixu xoɖɛ gbɔn bɔ Mawu na sè?\\nÐagbe tɛ lɛ ɖɛxixo ka sixu wà nú we?'"
      ]
     },
     "execution_count": 422,
     "metadata": {},
     "output_type": "execute_result"
    }
   ],
   "source": [
    "v = re.sub(r'\"[^\"]*(?:\"\"[^\"]*)*\"', lambda m: m.group(0).replace(\"\\n\", \"\"), df['fon'][3])\n",
    "v = re.sub(r'«[^\"]*(?:\"\"[^\"]*)*»', lambda m: m.group(0).replace(\"\\n\", \"\"), v)\n",
    "v = re.sub(r'\"[^\"]+\"', lambda m: m.group(0).replace(\"\\n\", \"\"), v)\n",
    "v = re.sub(r'“[^\"]*(?:\"\"[^\"]*)*”', lambda m: m.group(0).replace(\"\\n\", \"\"), v)\n",
    "v"
   ]
  },
  {
   "cell_type": "code",
   "execution_count": 423,
   "metadata": {},
   "outputs": [],
   "source": [
    "# Tokenization test"
   ]
  },
  {
   "cell_type": "code",
   "execution_count": 424,
   "metadata": {},
   "outputs": [],
   "source": [
    "import nltk"
   ]
  },
  {
   "cell_type": "code",
   "execution_count": 425,
   "metadata": {},
   "outputs": [],
   "source": [
    "fontest = nltk.tokenize.sent_tokenize(v.replace(' »','»').replace('« ','«'))"
   ]
  },
  {
   "cell_type": "code",
   "execution_count": 426,
   "metadata": {},
   "outputs": [],
   "source": [
    "frenchtest = nltk.tokenize.sent_tokenize(t.replace(' »','»').replace('« ','«'))"
   ]
  },
  {
   "cell_type": "code",
   "execution_count": 427,
   "metadata": {},
   "outputs": [
    {
     "name": "stdout",
     "output_type": "stream",
     "text": [
      "16\n",
      "12\n"
     ]
    }
   ],
   "source": [
    "print(len(frenchtest))\n",
    "print(len(fontest))"
   ]
  },
  {
   "cell_type": "code",
   "execution_count": 428,
   "metadata": {},
   "outputs": [],
   "source": [
    "from nltk.tokenize import RegexpTokenizer\n",
    "tokenizer = RegexpTokenizer(r'[^.?!\\n]+')\n",
    "fontest2 = list(map(str.strip, tokenizer.tokenize(v)))\n",
    "frenchtest2 = list(map(str.strip, tokenizer.tokenize(t)))"
   ]
  },
  {
   "cell_type": "code",
   "execution_count": 429,
   "metadata": {},
   "outputs": [
    {
     "data": {
      "text/plain": [
       "['María, Raúl, Arne et beaucoup d’autres voient la prière comme une possibilité extraordinaire offerte aux humains',\n",
       " 'Ils sont persuadés que par le moyen de la prière, ils peuvent parler à Dieu, le remercier et chercher son aide',\n",
       " 'Ils sont intimement convaincus que cette déclaration de la Bible au sujet de la prière est vraie : «Voici de quoi nous pouvons être sûrs au sujet de Dieu : il nous écoute, quelle que soit la chose que nous demandons en accord avec sa volont» (1 Jean 5:14)',\n",
       " 'À l’opposé, beaucoup de personnes ont du mal à croire ce que la Bible dit à propos de la prière',\n",
       " 'Steve raconte le ressenti qu’il a eu un jour à ce sujet : «Quand j’avais 17 ans, trois de mes amis sont morts, l’un dans un accident de voiture, les deux autres, noyés en mer» Qu’a fait Steve',\n",
       " '«J’ai prié Dieu pour qu’il me dise pourquoi tout ça s’était passé',\n",
       " 'Mais je n’ai eu aucune réponse',\n",
       " 'Alors je me suis dit : “À quoi bon pr» De même, pensant ne pas avoir de réponses à leurs prières, beaucoup se demandent s’il vaut vraiment la peine de prier',\n",
       " 'D’autres raisons peuvent faire douter de l’intérêt de la prière',\n",
       " 'Certains disent que, puisqu’il sait tout, Dieu est déjà au courant de nos besoins et de nos problèmes, donc c’est inutile de lui en parler',\n",
       " 'D’autres croient que Dieu ne veut pas écouter leurs prières à cause de fautes qu’ils ont commises dans le passé',\n",
       " '«Mon plus gros obstacle, dit Jenny, c’est que j’ai l’impression d’être une bonne à rien',\n",
       " 'J’ai fait des choses que je regrette, donc je suis persuadée de ne pas mériter que Dieu m’écoute»',\n",
       " 'Et vous, quel est votre point de vue sur la prière',\n",
       " 'S’il vous arrive d’avoir le même genre de doutes ou d’inquiétudes au sujet de la prière, la Bible peut vous apporter du réconfort par les réponses rassurantes qu’elle donne à vos questions',\n",
       " 'C’est la mieux placée pour nous renseigner sur la prière',\n",
       " '*',\n",
       " 'Elle peut nous aider à trouver la réponse à des questions comme :',\n",
       " 'Dieu entend-il vraiment nos prières',\n",
       " 'Pourquoi certaines prières restent-elles sans réponse',\n",
       " 'Comment prier de manière à être entendu',\n",
       " 'Que peut nous apporter la prière']"
      ]
     },
     "execution_count": 429,
     "metadata": {},
     "output_type": "execute_result"
    }
   ],
   "source": [
    "frenchtest2"
   ]
  },
  {
   "cell_type": "code",
   "execution_count": 430,
   "metadata": {},
   "outputs": [
    {
     "data": {
      "text/plain": [
       "['Nú María, Raúl, Arne kpo mɛ gegě ɖevo lɛ kpo ɔ, ɖɛ nyí nǔnina bǔnɔ ɖé',\n",
       " 'Ye nɔ mɔ ɖɔ mǐ sixu ɖɔ xó nú Mawu, dó kú n’i, bo lɛ́ byɔ alɔdó tɔn gbɔn ɖɛxixo gblamɛ',\n",
       " 'Ye kúdeji mlɛ́mlɛ́ ɖɔ nǔ e Biblu ɖɔ dó ɖɛxixo sɛ́dó Mawu wu é ɔ, nǔgbo wɛ: “Mǐ ɖó ganjɛwu kpíkpé ɖò Mawu nukɔn ɖɔ mǐ byɔ nǔ ɖebǔ nú é sɔgbe xá jlǒ tɔn ɔ, é nɔ ɖót”—1 Jaan 5:14',\n",
       " 'Ðò alɔ ɖevo mɛ ɔ, é nɔ vɛwǔ nú mɛ gegě bɔ ye na yí gbè nú nǔ e Biblu ɖɔ dó ɖɛxixo wu é',\n",
       " 'Steve ɖè lee nǔ cí n’i dó ɖɛxixo wu é xlɛ́, bo ɖɔ: “Hwenu e un ɖò xwè 17 mɔ̌ ɖó wɛ é ɔ, xɔ́ntɔn ce atɔn kú ɖò nǔ d’abaɖa we hwenu',\n",
       " 'Mɔ̌to gbà dó mɛ ɖokpo b’ɛ kú, bɔ xù sɔ́ mɛ we ɖě l” Etɛ Steve ka wà',\n",
       " '“Un xoɖɛ sɛ́dó Mawu bo na dó tuùn nǔ e wu nǔ enɛ lɛ bǐ jɛ é, amɔ̌, un mɔ sinkɔn ɖě ǎ',\n",
       " 'Enɛ wu ɔ, un kanbyɔ nyiɖée ɖɔ, ‘Tɛwu un ka na kpò ɖò ɖɛ xò” Mɛ gegě nɔ mɔ ɖɔ è kún na sinkɔn nú ɖɛ emitɔn lɛ ó, bɔ enɛ wu ɔ, ye nɔ kan nǔ e wu ye ɖó na kpò ɖò ɖɛ xò wɛ é byɔ yeɖée',\n",
       " 'É nɔ lɛ́ sín nǔ ɖevo lɛ wu, bɔ mɛ lɛ nɔ xò nǔ kpɔ́n dó ɖɛxixo wu',\n",
       " 'Mɛɖé lɛ nɔ ɖɔ ɖɔ, ɖó Mawu tuùn nǔ lɛ bǐ wu ɔ, é ko tuùn nǔ e hudo mǐ lɛ é kpo ninɔmɛ e ɖí xwi xá wɛ mǐ ɖè lɛ é kpo, enɛ wu ɔ, é kún sɔ́ byɔ ɖɔ è ni ɖɔ nǔ enɛ lɛ n’i ó',\n",
       " 'Mɛ ɖevo lɛ ɖi ɖɔ Mawu kún nɔ ba na ɖótó ɖɛ yetɔn lɛ ó, ɖó nǔ e ye wà nyi dò wá yì lɛ é wu',\n",
       " 'Jenny ɖɔ: “Wuvɛ̌ ɖaxó e un nɔ mɔ hugǎn é wɛ nyí ɖɔ, un nɔ mɔ ɖɔ un kún hwɛ́n nǔtí ó',\n",
       " 'Un wà nǔ e wá vɛ́ nú mì lɛ é, enɛ wu ɔ, un nɔ ɖɔ nú nyiɖée ɖɔ un kún jɛxa bonu Mawu na ɖótó ”',\n",
       " 'Nɛ̌ nǔ ka nɔ cí nú we dó ɖɛxixo wu',\n",
       " 'Enyi nǔ ko cí mɔ̌ nú we kpɔ́n, alǒ, a nɔ xò nǔ kpɔ́n dó ɖɛxixo wu wɛ nyí ɔ, tuùntuùn ɖɔ xósin e sixu jɛmɛ nú mɛ lɛ é ɖò Biblu mɛ sixu dó gbɔ nú we',\n",
       " 'Mǐ sixu ɖeji dó nǔ e Biblu ɖɔ dó ɖɛxixo',\n",
       " '*',\n",
       " 'wu é wu, é sixu d’alɔ we bɔ a na mɔ xósin nú nǔkanbyɔ lěhun lɛ:',\n",
       " 'Mawu ka nɔ ɖótó ɖɛ mǐtɔn lɛ dóo à',\n",
       " 'Tɛwu è ma ka nɔ mɔ sinkɔn nú ɖɛ ɖé lɛ ǎ',\n",
       " 'Nɛ̌ a ka sixu xoɖɛ gbɔn bɔ Mawu na sè',\n",
       " 'Ðagbe tɛ lɛ ɖɛxixo ka sixu wà nú we']"
      ]
     },
     "execution_count": 430,
     "metadata": {},
     "output_type": "execute_result"
    }
   ],
   "source": [
    "fontest2"
   ]
  },
  {
   "cell_type": "code",
   "execution_count": null,
   "metadata": {},
   "outputs": [],
   "source": []
  },
  {
   "cell_type": "code",
   "execution_count": 431,
   "metadata": {},
   "outputs": [
    {
     "name": "stdout",
     "output_type": "stream",
     "text": [
      "22\n",
      "22\n"
     ]
    },
    {
     "data": {
      "text/plain": [
       "'Nú María, Raúl, Arne kpo mɛ gegě ɖevo lɛ kpo ɔ, ɖɛ nyí nǔnina bǔnɔ ɖé. Ye nɔ mɔ ɖɔ mǐ sixu ɖɔ xó nú Mawu, dó kú n’i, bo lɛ́ byɔ alɔdó tɔn gbɔn ɖɛxixo gblamɛ. Ye kúdeji mlɛ́mlɛ́ ɖɔ nǔ e Biblu ɖɔ dó ɖɛxixo sɛ́dó Mawu wu é ɔ, nǔgbo wɛ: “Mǐ ɖó ganjɛwu kpíkpé ɖò Mawu nukɔn ɖɔ mǐ byɔ nǔ ɖebǔ nú é sɔgbe xá jlǒ tɔn ɔ, é nɔ ɖót”—1 Jaan 5:14.\\nÐò alɔ ɖevo mɛ ɔ, é nɔ vɛwǔ nú mɛ gegě bɔ ye na yí gbè nú nǔ e Biblu ɖɔ dó ɖɛxixo wu é. Steve ɖè lee nǔ cí n’i dó ɖɛxixo wu é xlɛ́, bo ɖɔ: “Hwenu e un ɖò xwè 17 mɔ̌ ɖó wɛ é ɔ, xɔ́ntɔn ce atɔn kú ɖò nǔ d’abaɖa we hwenu. Mɔ̌to gbà dó mɛ ɖokpo b’ɛ kú, bɔ xù sɔ́ mɛ we ɖě l” Etɛ Steve ka wà? “Un xoɖɛ sɛ́dó Mawu bo na dó tuùn nǔ e wu nǔ enɛ lɛ bǐ jɛ é,\\n amɔ̌, un mɔ sinkɔn ɖě ǎ. Enɛ wu ɔ, un kanbyɔ nyiɖée ɖɔ, ‘Tɛwu un ka na kpò ɖò ɖɛ xò” Mɛ gegě nɔ mɔ ɖɔ è kún na sinkɔn nú ɖɛ emitɔn lɛ ó, bɔ enɛ wu ɔ, ye nɔ kan nǔ e wu ye ɖó na kpò ɖò ɖɛ xò wɛ é byɔ yeɖée.\\nÉ nɔ lɛ́ sín nǔ ɖevo lɛ wu, bɔ mɛ lɛ nɔ xò nǔ kpɔ́n dó ɖɛxixo wu. Mɛɖé lɛ nɔ ɖɔ ɖɔ, ɖó Mawu tuùn nǔ lɛ bǐ wu ɔ, é ko tuùn nǔ e hudo mǐ lɛ é kpo ninɔmɛ e ɖí xwi xá wɛ mǐ ɖè lɛ é kpo, enɛ wu ɔ, é kún sɔ́ byɔ ɖɔ è ni ɖɔ nǔ enɛ lɛ n’i ó.\\nMɛ ɖevo lɛ ɖi ɖɔ Mawu kún nɔ ba na ɖótó ɖɛ yetɔn lɛ ó, ɖó nǔ e ye wà nyi dò wá yì lɛ é wu. Jenny ɖɔ: “Wuvɛ̌ ɖaxó e un nɔ mɔ hugǎn é wɛ nyí ɖɔ, un nɔ mɔ ɖɔ un kún hwɛ́n nǔtí ó. Un wà nǔ e wá vɛ́ nú mì lɛ é, enɛ wu ɔ, un nɔ ɖɔ nú nyiɖée ɖɔ un kún jɛxa bonu Mawu na ɖótó ”\\nNɛ̌ nǔ ka nɔ cí nú we dó ɖɛxixo wu? Enyi nǔ ko cí mɔ̌ nú we kpɔ́n, alǒ, a nɔ xò nǔ kpɔ́n dó ɖɛxixo wu wɛ nyí ɔ, tuùntuùn ɖɔ xósin e sixu jɛmɛ nú mɛ lɛ é ɖò Biblu mɛ sixu dó gbɔ nú we. Mǐ sixu ɖeji dó nǔ e Biblu ɖɔ dó ɖɛxixo\\n *\\nwu é wu, é sixu d’alɔ we bɔ a na mɔ xósin nú nǔkanbyɔ lěhun lɛ:\\nMawu ka nɔ ɖótó ɖɛ mǐtɔn lɛ dóo à?\\nTɛwu è ma ka nɔ mɔ sinkɔn nú ɖɛ ɖé lɛ ǎ?\\nNɛ̌ a ka sixu xoɖɛ gbɔn bɔ Mawu na sè?\\nÐagbe tɛ lɛ ɖɛxixo ka sixu wà nú we?'"
      ]
     },
     "execution_count": 431,
     "metadata": {},
     "output_type": "execute_result"
    }
   ],
   "source": [
    "print(len(frenchtest2))\n",
    "print(len(fontest2))\n",
    "df['fon'][3]"
   ]
  },
  {
   "cell_type": "code",
   "execution_count": 432,
   "metadata": {},
   "outputs": [
    {
     "data": {
      "text/plain": [
       "'María, Raúl, Arne et beaucoup d’autres voient la prière comme une possibilité extraordinaire offerte aux humains. Ils sont persuadés que par le moyen de la prière, ils peuvent parler à Dieu, le remercier et chercher son aide. Ils sont intimement convaincus que cette déclaration de la Bible au sujet de la prière est vraie : «Voici de quoi nous pouvons être sûrs au sujet de Dieu : il nous écoute, quelle que soit la chose que nous demandons en accord avec sa volont» (1 Jean 5:14).À l’opposé, beaucoup de personnes ont du mal à croire ce que la Bible dit à propos de la prière. Steve raconte le ressenti qu’il a eu un jour à ce sujet : «Quand j’avais 17 ans, trois de mes amis sont morts, l’un dans un accident de voiture, les deux autres, noyés en mer» Qu’a fait Steve ? «J’ai prié Dieu pour qu’il me dise pourquoi tout ça s’était passé. Mais je n’ai eu aucune réponse. Alors je me suis dit : “À quoi bon pr» De même, pensant ne pas avoir de réponses à leurs prières, beaucoup se demandent s’il vaut vraiment la peine de prier.D’autres raisons peuvent faire douter de l’intérêt de la prière. Certains disent que, puisqu’il sait tout, Dieu est déjà au courant de nos besoins et de nos problèmes, donc c’est inutile de lui en parler !D’autres croient que Dieu ne veut pas écouter leurs prières à cause de fautes qu’ils ont commises dans le passé. «Mon plus gros obstacle, dit Jenny, c’est que j’ai l’impression d’être une bonne à rien. J’ai fait des choses que je regrette, donc je suis persuadée de ne pas mériter que Dieu m’écoute»\\nEt vous, quel est votre point de vue sur la prière ? S’il vous arrive d’avoir le même genre de doutes ou d’inquiétudes au sujet de la prière, la Bible peut vous apporter du réconfort par les réponses rassurantes qu’elle donne à vos questions. C’est la mieux placée pour nous renseigner sur la prière\\n *\\n. Elle peut nous aider à trouver la réponse à des questions comme :\\nDieu entend-il vraiment nos prières ?\\nPourquoi certaines prières restent-elles sans réponse ?\\nComment prier de manière à être entendu ?\\nQue peut nous apporter la prière ?'"
      ]
     },
     "execution_count": 432,
     "metadata": {},
     "output_type": "execute_result"
    }
   ],
   "source": [
    "t"
   ]
  },
  {
   "cell_type": "markdown",
   "metadata": {
    "heading_collapsed": true
   },
   "source": [
    "## Brouillon"
   ]
  },
  {
   "cell_type": "markdown",
   "metadata": {
    "hidden": true
   },
   "source": [
    "driver.get(\"https://www.jw.org/fon/nus%C9%9Bxwet%C9%9Bn/xojlawema-l%C9%9B/at%C9%94xw%C9%9B-aluunsun-2016-t%C9%94n-t%C9%94n/nu-e-wu-m%C9%9B-l%C9%9B-n%C9%94-%C9%96o-adingban-e/\")"
   ]
  },
  {
   "cell_type": "markdown",
   "metadata": {
    "hidden": true
   },
   "source": [
    "fon = []\n",
    "fre = []"
   ]
  },
  {
   "cell_type": "markdown",
   "metadata": {
    "hidden": true
   },
   "source": [
    "elefon = driver.find_element_by_xpath(\"//div[@class='pGroup']\")"
   ]
  },
  {
   "cell_type": "markdown",
   "metadata": {
    "hidden": true
   },
   "source": [
    "fon.append(elefon.text)"
   ]
  },
  {
   "cell_type": "markdown",
   "metadata": {
    "hidden": true
   },
   "source": [
    "inputElement = driver.find_element_by_xpath(\"//input[@class='jsAutoComplete jsShowFeatured jsAutoCompleteInput autoCompleteLanguageChoices']\")\n",
    "inputElement.send_keys('Flansegbe')\n",
    "\n",
    "inputElement.send_keys(Keys.ENTER)\n",
    "inputElement.send_keys(Keys.ENTER)"
   ]
  },
  {
   "cell_type": "markdown",
   "metadata": {
    "hidden": true
   },
   "source": [
    "\n",
    "time.sleep(10) "
   ]
  },
  {
   "cell_type": "markdown",
   "metadata": {
    "hidden": true
   },
   "source": [
    "elefre = driver.find_element_by_xpath(\"//div[@class='pGroup']\")\n",
    "fre.append(elefre.text)"
   ]
  },
  {
   "cell_type": "code",
   "execution_count": 42,
   "metadata": {
    "hidden": true
   },
   "outputs": [
    {
     "data": {
      "text/plain": [
       "['Ðò sun e bɔ d’ewu lɛ é mɛ ɔ, awakanmɛ wá kú Hitoshi bǐ dó azɔ̌ e é na wà é biba wu. Ði kpɔ́ndéwú ɔ, hwenu e Hitoshi ɖò azɔ̌ ba wɛ gbè ɖokpo bɔ è ɖò nǔ kanbyɔ ɛ wɛ é ɔ, é ɖɔ ɖɔ emi kún sixu wà azɔ̌ e nugbǒmaɖɔ na ɖ’emɛ é ó. Mɛ e ɖò nǔ kanbyɔ ɛ wɛ é ɖɔ n’i ɖɔ: “Linlin towe lɛ bú dò mɛ!” Hɛnnumɔ Hitoshi tɔn lɛ kpo xɔ́ntɔn tɔn lɛ kpo dó wusyɛn lanmɛ n’i ɖɔ é ni zunfan kú e é kudeji ɖɔ emi na nɔ ɖɔ nugbǒ é, é ɖò mɔ̌ có, é wá jɛ nǔxokpɔ́n jí kpɛɖé kpɛɖé. Ði kpɔ́ndéwú ɔ, é ɖɔ: “Un nɔ wá kanbyɔ nyiɖée ɖɔ gbejininɔ nú nùɖiɖi ce ka nyí nǔ ɖagbe à jí.”\\nNǔ nyanya enɛ e xá Hitoshi é nɔ flín mǐ ɖɔ nugbǒɖiɖɔ kún nɔ xɔ akwɛ ɖò mɛ bǐ nukúnmɛ ó. Nú è na ɖɔ xó jɔ xó ɔ, mɛɖé lɛ tlɛ sixu kpɔ́n nugbǒɖiɖɔ dó mɔ agban kpinkpɛn ɖé na, ɖò taji ɔ, ɖò ajɔ̌tɔ́ lɛ tɛntin. Nawe ɖé nɔ wà agbazazɔ́ bo nɔ nɔ Afrique du Sud bo ɖɔ: “Gbɛtɔ́ nugbǒmaɖɔtɔ́ lɛ wɛ lɛlɛ̌ dó mì, bɔ hweɖelɛnu ɔ, cɔcɔ e ye nɔ dó nú mɛ bonu è na wà nǔ ye ɖɔhun é nɔ syɛn tawun.”\\nNugbǒmaɖɔ sín alɔkpa e gbakpé tawun ɖò égbé lɛ é ɖokpo wɛ nyí adingban ɖiɖó. Xwè ɖé lɛ ɖíe wá yì ɔ, Robert S. Feldman e nyí dotóo bo nɔ kplɔ́n walɔ gbɛtɔ́ tɔn ɖò Kplɔnyiji-Alavɔxwé Massachusetts Amherst tɔn é ba dò nú nǔ, bo ɖɔ ɖɔ enyi è sɔ́ mɛxo 100 ɖó te ɔ, mɛ 60 nɔ ɖ’emɛ bɔ cobonu ye na ɖɔ xó ɖó kpɔ́ xá mɛ nú cɛju wǒ ɔ, é hwe bǐ ɔ, ye nɔ ko ɖó adingban ɖokpo. “Nǔ enɛ e mǐ mɔ é kpaca mǐ tawun,” wɛ Feldman ɖɔ. “Mǐ ɖó nukún ɖɔ adingban ɖiɖó na gbakpé ɖò gbɛzinzan ayihɔngbe ayihɔngbe tɔn mɛ lɛ tɔn mɛ mɔ̌ ǎ.” É blawu ɖɔ enyi è ɖó adingban nú mɛ gègě ɔ, é nɔ vɛ́ nú ye, có mɛ gègě ka nɔ ɖó adingban.\\nEtɛwu adingban ɖiɖó, ajojija kpo nugbǒmaɖɔ alɔkpa alɔkpa ɖevo lɛ kpo ka gbakpé sɔmɔ̌ ɖò égbé? Etɛ mɛ nugbǒmaɖɔ ka nɔ tɔ́n kɔ dó? Bɔ ee lɛ́ ɖò taji hú enɛ lɛ é wɛ nyí ɖɔ, nɛ̌ mǐ ka sixu nyì alɔ nú walɔ nugbǒmaɖɔ tɔn enɛ lɛ gbɔn?']"
      ]
     },
     "execution_count": 42,
     "metadata": {},
     "output_type": "execute_result"
    }
   ],
   "source": []
  },
  {
   "cell_type": "code",
   "execution_count": 43,
   "metadata": {
    "hidden": true
   },
   "outputs": [
    {
     "data": {
      "text/plain": [
       "['Dans les mois qui ont suivi, Hitoshi s’est découragé : il pensait ne jamais retrouver de travail. Lors d’un entretien d’embauche, par exemple, après avoir précisé qu’il ne pouvait pas se montrer malhonnête, il s’est entendu dire : « Votre façon de voir les choses est étrange ! » Sa famille et ses amis l’ont encouragé à tenir ferme sa résolution d’être honnête. Malgré cela, il a commencé à avoir des doutes. Il s’est même demandé si c’était une bonne idée de parler avec franchise de ses convictions.\\nCe qu’Hitoshi a vécu nous rappelle que, malheureusement, tout le monde n’accorde pas de la valeur à l’honnêteté. Certains la considèrent même comme un handicap, particulièrement dans le monde des affaires. « Je suis entourée de collègues malhonnêtes, dit une femme d’Afrique du Sud, et parfois, les pressions que je subis sont très fortes. »\\nUne forme de malhonnêteté particulièrement répandue aujourd’hui est le mensonge. Il y a quelques années, une étude menée par Robert Feldman, psychologue à l’Université du Massachusetts, à Amherst, a révélé que 60 pour cent des adultes mentent au moins une fois au cours d’une conversation de dix minutes. « Les résultats nous ont beaucoup étonnés, dit M. Feldman. Nous ne pensions pas que le mensonge occupait une telle place dans la vie quotidienne. » N’est-il pas surprenant que la plupart des gens détestent qu’on leur mente alors que peu de pratiques sont aussi courantes que le mensonge ?\\nPourquoi le mensonge, le vol et les autres formes de malhonnêteté sont-ils aussi courants ? À quel point la malhonnêteté touche-t-elle la société ? Plus important encore, comment éviter de se trouver mêlé à des pratiques malhonnêtes ?']"
      ]
     },
     "execution_count": 43,
     "metadata": {},
     "output_type": "execute_result"
    }
   ],
   "source": []
  }
 ],
 "metadata": {
  "kernelspec": {
   "display_name": "Python 3",
   "language": "python",
   "name": "python3"
  },
  "language_info": {
   "codemirror_mode": {
    "name": "ipython",
    "version": 3
   },
   "file_extension": ".py",
   "mimetype": "text/x-python",
   "name": "python",
   "nbconvert_exporter": "python",
   "pygments_lexer": "ipython3",
   "version": "3.7.9"
  },
  "toc": {
   "base_numbering": 1,
   "nav_menu": {},
   "number_sections": true,
   "sideBar": true,
   "skip_h1_title": false,
   "title_cell": "Table of Contents",
   "title_sidebar": "Contents",
   "toc_cell": false,
   "toc_position": {},
   "toc_section_display": true,
   "toc_window_display": false
  },
  "varInspector": {
   "cols": {
    "lenName": 16,
    "lenType": 16,
    "lenVar": 40
   },
   "kernels_config": {
    "python": {
     "delete_cmd_postfix": "",
     "delete_cmd_prefix": "del ",
     "library": "var_list.py",
     "varRefreshCmd": "print(var_dic_list())"
    },
    "r": {
     "delete_cmd_postfix": ") ",
     "delete_cmd_prefix": "rm(",
     "library": "var_list.r",
     "varRefreshCmd": "cat(var_dic_list()) "
    }
   },
   "types_to_exclude": [
    "module",
    "function",
    "builtin_function_or_method",
    "instance",
    "_Feature"
   ],
   "window_display": false
  }
 },
 "nbformat": 4,
 "nbformat_minor": 4
}
